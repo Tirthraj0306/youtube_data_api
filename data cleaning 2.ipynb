{
 "cells": [
  {
   "cell_type": "code",
   "execution_count": null,
   "id": "8aaa9c61",
   "metadata": {},
   "outputs": [],
   "source": [
    "import numpy as np\n",
    "import pandas as pd\n",
    "import seaborn as sns\n",
    "import matplotlib.pyplot as plt"
   ]
  },
  {
   "cell_type": "code",
   "execution_count": null,
   "id": "5d965052",
   "metadata": {},
   "outputs": [],
   "source": [
    "data = pd.read_csv(r'C:\\Users\\chaud\\Downloads\\New_updated_data.csv')"
   ]
  },
  {
   "cell_type": "code",
   "execution_count": null,
   "id": "dc633b7d",
   "metadata": {},
   "outputs": [],
   "source": [
    "data"
   ]
  },
  {
   "cell_type": "code",
   "execution_count": null,
   "id": "ed528a27",
   "metadata": {},
   "outputs": [],
   "source": [
    "data.info()"
   ]
  },
  {
   "cell_type": "code",
   "execution_count": null,
   "id": "dea45179",
   "metadata": {},
   "outputs": [],
   "source": [
    "data.head()"
   ]
  },
  {
   "cell_type": "code",
   "execution_count": null,
   "id": "ff195532",
   "metadata": {},
   "outputs": [],
   "source": [
    "data.tail()"
   ]
  },
  {
   "cell_type": "code",
   "execution_count": null,
   "id": "a188c361",
   "metadata": {},
   "outputs": [],
   "source": [
    "data.isnull()"
   ]
  },
  {
   "cell_type": "code",
   "execution_count": null,
   "id": "c98b9bb6",
   "metadata": {},
   "outputs": [],
   "source": [
    "data.isnull().sum().sum()"
   ]
  },
  {
   "cell_type": "code",
   "execution_count": null,
   "id": "0dd867fa",
   "metadata": {},
   "outputs": [],
   "source": [
    "data['Language'] = data['Language'].fillna('English')"
   ]
  },
  {
   "cell_type": "code",
   "execution_count": null,
   "id": "bf165913",
   "metadata": {},
   "outputs": [],
   "source": [
    "data['Tags/Keywords'] = data['Tags/Keywords'].fillna('Not Available')"
   ]
  },
  {
   "cell_type": "code",
   "execution_count": null,
   "id": "d3cba6b5",
   "metadata": {},
   "outputs": [],
   "source": [
    "data"
   ]
  },
  {
   "cell_type": "code",
   "execution_count": null,
   "id": "c7d7cd5b",
   "metadata": {},
   "outputs": [],
   "source": [
    "data.isnull().sum().sum()"
   ]
  },
  {
   "cell_type": "code",
   "execution_count": null,
   "id": "962526f3",
   "metadata": {},
   "outputs": [],
   "source": [
    "language_mapping = {\n",
    "    'en': 'English',\n",
    "    'en-US': 'English (United States)',\n",
    "    'fr': 'French',\n",
    "    'es': 'Spanish',\n",
    "    'hi': 'Hindi',\n",
    "    'de': 'German',\n",
    "    'or': 'Oriya',\n",
    "    'ta': 'Tamil',\n",
    "    'bn': 'Bengali',\n",
    "    'ko': 'Korean',\n",
    "    'gu': 'Gujarati',\n",
    "    'ja': 'Japanese',\n",
    "    'ml': 'Malayalam',\n",
    "    'ur': 'Urdu',\n",
    "    'te': 'Telugu',\n",
    "    'kn': 'Kannada',\n",
    "    'my': 'Burmese',\n",
    "    'am': 'Amharic',\n",
    "    'ru': 'Russian',\n",
    "    'it': 'Italian',\n",
    "    'km': 'Khmer',\n",
    "    'id': 'Indonesian'\n",
    "}\n",
    "\n",
    "def map_language(short_code):\n",
    "    return language_mapping.get(short_code, short_code)  \n",
    "\n",
    "data['Language'] = data['Language'].apply(map_language)"
   ]
  },
  {
   "cell_type": "code",
   "execution_count": null,
   "id": "91933926",
   "metadata": {},
   "outputs": [],
   "source": [
    "data"
   ]
  },
  {
   "cell_type": "code",
   "execution_count": null,
   "id": "2adc4531",
   "metadata": {},
   "outputs": [],
   "source": [
    "data.isnull().sum().sum()"
   ]
  },
  {
   "cell_type": "code",
   "execution_count": null,
   "id": "78a8b61b",
   "metadata": {},
   "outputs": [],
   "source": [
    "data.isnull().sum()"
   ]
  },
  {
   "cell_type": "code",
   "execution_count": null,
   "id": "c6ac8f93",
   "metadata": {},
   "outputs": [],
   "source": [
    "data['Description'] = data['Description'].fillna('Not Available Description For this video')"
   ]
  },
  {
   "cell_type": "code",
   "execution_count": null,
   "id": "34e6f37f",
   "metadata": {},
   "outputs": [],
   "source": [
    "data"
   ]
  },
  {
   "cell_type": "code",
   "execution_count": null,
   "id": "d1358f73",
   "metadata": {},
   "outputs": [],
   "source": [
    "data.isnull().sum()"
   ]
  },
  {
   "cell_type": "code",
   "execution_count": null,
   "id": "7cf9d724",
   "metadata": {},
   "outputs": [],
   "source": [
    "data\n"
   ]
  },
  {
   "cell_type": "code",
   "execution_count": null,
   "id": "47b97059",
   "metadata": {},
   "outputs": [],
   "source": [
    "def convert_duration(duration_str):\n",
    "    parts = duration_str.split(':')\n",
    "    if len(parts) != 2:\n",
    "        return '00:00:00'  # Return default value if the format is unexpected\n",
    "    minutes, seconds = map(int, parts)\n",
    "    hours = minutes // 60\n",
    "    minutes %= 60\n",
    "    return f'{hours:02d}:{minutes:02d}:{seconds:02d}'\n"
   ]
  },
  {
   "cell_type": "code",
   "execution_count": null,
   "id": "75beed47",
   "metadata": {},
   "outputs": [],
   "source": [
    "data"
   ]
  },
  {
   "cell_type": "code",
   "execution_count": null,
   "id": "89ceb9c4",
   "metadata": {},
   "outputs": [],
   "source": [
    "data"
   ]
  },
  {
   "cell_type": "code",
   "execution_count": null,
   "id": "0fbf2346",
   "metadata": {},
   "outputs": [],
   "source": [
    "from datetime import datetime\n",
    "\n",
    "# Convert 'Published At' column to datetime format\n",
    "data['Published At'] = pd.to_datetime(data['Published At'])\n",
    "\n",
    "# Convert datetime format to the desired format\n",
    "data['Published At'] = data['Published At'].dt.strftime('%Y-%m-%d, %I:%M:%S %p')"
   ]
  },
  {
   "cell_type": "code",
   "execution_count": null,
   "id": "656b6e64",
   "metadata": {},
   "outputs": [],
   "source": [
    "data"
   ]
  },
  {
   "cell_type": "code",
   "execution_count": null,
   "id": "b80c2e90",
   "metadata": {},
   "outputs": [],
   "source": []
  },
  {
   "cell_type": "code",
   "execution_count": null,
   "id": "3e20c60d",
   "metadata": {},
   "outputs": [],
   "source": []
  },
  {
   "cell_type": "code",
   "execution_count": null,
   "id": "ef68a2e0",
   "metadata": {},
   "outputs": [],
   "source": []
  },
  {
   "cell_type": "code",
   "execution_count": null,
   "id": "38e3f559",
   "metadata": {},
   "outputs": [],
   "source": []
  },
  {
   "cell_type": "code",
   "execution_count": null,
   "id": "19f2d7d9",
   "metadata": {},
   "outputs": [],
   "source": [
    "data.to_excel(\"New_updated_data2.xlsx\")"
   ]
  },
  {
   "cell_type": "code",
   "execution_count": null,
   "id": "6a68132a",
   "metadata": {},
   "outputs": [],
   "source": []
  }
 ],
 "metadata": {
  "kernelspec": {
   "display_name": "Python 3 (ipykernel)",
   "language": "python",
   "name": "python3"
  },
  "language_info": {
   "codemirror_mode": {
    "name": "ipython",
    "version": 3
   },
   "file_extension": ".py",
   "mimetype": "text/x-python",
   "name": "python",
   "nbconvert_exporter": "python",
   "pygments_lexer": "ipython3",
   "version": "3.11.5"
  }
 },
 "nbformat": 4,
 "nbformat_minor": 5
}
