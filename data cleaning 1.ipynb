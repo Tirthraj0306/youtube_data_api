{
 "cells": [
  {
   "cell_type": "code",
   "execution_count": null,
   "id": "f27f35da",
   "metadata": {},
   "outputs": [],
   "source": [
    "import pandas as pd"
   ]
  },
  {
   "cell_type": "code",
   "execution_count": null,
   "id": "c0e2956f",
   "metadata": {},
   "outputs": [],
   "source": [
    "data = pd.read_csv(r'E:\\Great learning All Data Analytise Material\\final live project\\merged_file2.csv')"
   ]
  },
  {
   "cell_type": "code",
   "execution_count": null,
   "id": "fe892481",
   "metadata": {},
   "outputs": [],
   "source": [
    "data"
   ]
  },
  {
   "cell_type": "code",
   "execution_count": null,
   "id": "b5154641",
   "metadata": {},
   "outputs": [],
   "source": [
    "import pandas as pd\n",
    "from datetime import datetime\n",
    "\n",
    "# Convert 'Published At' column to datetime format\n",
    "data['Published At'] = pd.to_datetime(data['Published At'])\n",
    "\n",
    "# Convert datetime format to the desired format\n",
    "data['Published At'] = data['Published At'].dt.strftime('%Y-%m-%d, %I:%M:%S %p')\n",
    "\n",
    "# Write the updated data to a new CSV file\n",
    "#data.to_csv('updated_csv_file.csv', index=False)\n"
   ]
  },
  {
   "cell_type": "code",
   "execution_count": null,
   "id": "c259adc1",
   "metadata": {},
   "outputs": [],
   "source": [
    "data"
   ]
  },
  {
   "cell_type": "code",
   "execution_count": null,
   "id": "43e70582",
   "metadata": {},
   "outputs": [],
   "source": [
    "data.info()"
   ]
  },
  {
   "cell_type": "code",
   "execution_count": null,
   "id": "5c3bf661",
   "metadata": {},
   "outputs": [],
   "source": [
    "data.isnull().sum()"
   ]
  },
  {
   "cell_type": "code",
   "execution_count": null,
   "id": "7dddf3b9",
   "metadata": {},
   "outputs": [],
   "source": [
    "data['Language'] = data['Language'].fillna('English')"
   ]
  },
  {
   "cell_type": "code",
   "execution_count": null,
   "id": "35d3bef6",
   "metadata": {},
   "outputs": [],
   "source": [
    "data['Tags/Keywords'] = data['Tags/Keywords'].fillna('Not Available')"
   ]
  },
  {
   "cell_type": "code",
   "execution_count": null,
   "id": "49e7643d",
   "metadata": {},
   "outputs": [],
   "source": [
    "data['Resolution/Quality'] = data['Resolution/Quality'].fillna('Auto Resolution')"
   ]
  },
  {
   "cell_type": "code",
   "execution_count": null,
   "id": "88ba45c2",
   "metadata": {},
   "outputs": [],
   "source": [
    "data['Description'] = data['Description'].fillna('Not Available Description for this video')"
   ]
  },
  {
   "cell_type": "code",
   "execution_count": null,
   "id": "5c2e4419",
   "metadata": {},
   "outputs": [],
   "source": [
    "data"
   ]
  },
  {
   "cell_type": "code",
   "execution_count": null,
   "id": "1f9c9abd",
   "metadata": {},
   "outputs": [],
   "source": [
    "data.isnull().sum()"
   ]
  },
  {
   "cell_type": "code",
   "execution_count": null,
   "id": "0d1f31a8",
   "metadata": {},
   "outputs": [],
   "source": [
    "data.isnull().sum().sum()"
   ]
  },
  {
   "cell_type": "code",
   "execution_count": null,
   "id": "c561a297",
   "metadata": {},
   "outputs": [],
   "source": [
    "data"
   ]
  },
  {
   "cell_type": "code",
   "execution_count": null,
   "id": "76b29fb8",
   "metadata": {},
   "outputs": [],
   "source": [
    "def convert_duration(duration_str):\n",
    "    minutes, seconds = map(int, duration_str.split(':'))\n",
    "    hours = minutes // 60\n",
    "    minutes %= 60\n",
    "    return f'{hours:02d}:{minutes:02d}:{seconds:02d}'\n",
    "\n",
    "# Apply the conversion function to the 'Duration (Minutes:Seconds)' column\n",
    "data['Duration (Minutes:Seconds)'] = data['Duration (Minutes:Seconds)'].apply(convert_duration)"
   ]
  },
  {
   "cell_type": "code",
   "execution_count": null,
   "id": "118884c2",
   "metadata": {},
   "outputs": [],
   "source": [
    "data"
   ]
  },
  {
   "cell_type": "code",
   "execution_count": null,
   "id": "95300b04",
   "metadata": {},
   "outputs": [],
   "source": [
    "language_mapping = {\n",
    "    'en': 'English',\n",
    "    'en-US': 'English (United States)',\n",
    "    'fr': 'French',\n",
    "    'es': 'Spanish',\n",
    "    'hi': 'Hindi',\n",
    "    'de': 'German',\n",
    "    'or': 'Oriya',\n",
    "    'ta': 'Tamil',\n",
    "    'bn': 'Bengali',\n",
    "    'ko': 'Korean',\n",
    "    'gu': 'Gujarati',\n",
    "    'ja': 'Japanese',\n",
    "    'ml': 'Malayalam',\n",
    "    'ur': 'Urdu',\n",
    "    'te': 'Telugu',\n",
    "    'kn': 'Kannada',\n",
    "    'my': 'Burmese',\n",
    "    'am': 'Amharic',\n",
    "    'ru': 'Russian',\n",
    "    'it': 'Italian',\n",
    "    'km': 'Khmer',\n",
    "    'id': 'Indonesian'\n",
    "}\n",
    "\n",
    "def map_language(short_code):\n",
    "    return language_mapping.get(short_code, short_code)  \n",
    "\n",
    "data['Language'] = data['Language'].apply(map_language)"
   ]
  },
  {
   "cell_type": "code",
   "execution_count": null,
   "id": "6653a1f1",
   "metadata": {},
   "outputs": [],
   "source": [
    "data"
   ]
  },
  {
   "cell_type": "code",
   "execution_count": null,
   "id": "98e6f950",
   "metadata": {},
   "outputs": [],
   "source": [
    "data.head()"
   ]
  },
  {
   "cell_type": "code",
   "execution_count": null,
   "id": "16332261",
   "metadata": {},
   "outputs": [],
   "source": [
    "data.tail()"
   ]
  },
  {
   "cell_type": "code",
   "execution_count": null,
   "id": "b57ed07c",
   "metadata": {},
   "outputs": [],
   "source": [
    "data"
   ]
  },
  {
   "cell_type": "code",
   "execution_count": null,
   "id": "b067d614",
   "metadata": {},
   "outputs": [],
   "source": [
    "data.to_excel(\"New_updated_data1.xlsx\")"
   ]
  },
  {
   "cell_type": "code",
   "execution_count": null,
   "id": "fbf1ccef",
   "metadata": {},
   "outputs": [],
   "source": []
  }
 ],
 "metadata": {
  "kernelspec": {
   "display_name": "Python 3 (ipykernel)",
   "language": "python",
   "name": "python3"
  },
  "language_info": {
   "codemirror_mode": {
    "name": "ipython",
    "version": 3
   },
   "file_extension": ".py",
   "mimetype": "text/x-python",
   "name": "python",
   "nbconvert_exporter": "python",
   "pygments_lexer": "ipython3",
   "version": "3.11.5"
  }
 },
 "nbformat": 4,
 "nbformat_minor": 5
}
